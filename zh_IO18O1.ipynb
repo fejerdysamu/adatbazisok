{
    "metadata": {
        "kernelspec": {
            "name": "SQL",
            "display_name": "SQL",
            "language": "sql"
        },
        "language_info": {
            "name": "sql",
            "version": ""
        }
    },
    "nbformat_minor": 2,
    "nbformat": 4,
    "cells": [
        {
            "cell_type": "code",
            "source": [
                "SELECT szh.TIPUS, COUNT(ROUND(FOGLALAS_PK,2))\r\n",
                "FROM Foglalas f JOIN Szoba sz ON sz.SZOBA_ID=f.SZOBA_FK\r\n",
                "                JOIN Szallashely szh ON szh.SZALLAS_ID=sz.SZALLAS_FK\r\n",
                "GROUP BY szh.TIPUS\r\n",
                "HAVING COUNT(ROUND(FOGLALAS_PK,2))<500"
            ],
            "metadata": {
                "azdata_cell_guid": "a7bcb455-0746-491e-9fe1-63b0995a9acc",
                "language": "sql"
            },
            "outputs": [
                {
                    "output_type": "display_data",
                    "data": {
                        "text/html": "(1 row affected)"
                    },
                    "metadata": {}
                },
                {
                    "output_type": "display_data",
                    "data": {
                        "text/html": "Total execution time: 00:00:00.013"
                    },
                    "metadata": {}
                },
                {
                    "output_type": "execute_result",
                    "execution_count": 4,
                    "data": {
                        "application/vnd.dataresource+json": {
                            "schema": {
                                "fields": [
                                    {
                                        "name": "SZOBA_ID"
                                    },
                                    {
                                        "name": "(No column name)"
                                    },
                                    {
                                        "name": "(No column name)"
                                    }
                                ]
                            },
                            "data": [
                                {
                                    "SZOBA_ID": "58",
                                    "(No column name)": "12"
                                }
                            ]
                        },
                        "text/html": "<table><tr><th>SZOBA_ID</th><th>(No column name)</th><th>(No column name)</th></tr><tr><td>58</td><td>2016</td><td>12</td></tr></table>"
                    },
                    "metadata": {}
                }
            ],
            "execution_count": 4
        },
        {
            "cell_type": "code",
            "source": [
                "SELECT SZOBA_ID, YEAR(METTOL), COUNT(F.FOGLALAS_PK)\r\n",
                "FROM Szoba sz JOIN Foglalas f ON sz.SZOBA_ID=f.SZOBA_FK\r\n",
                "GROUP BY YEAR(METTOL), sz.SZOBA_ID\r\n",
                "HAVING COUNT(f.FOGLALAS_PK)>10\r\n",
                "EXCEPT\r\n",
                "SELECT SZOBA_ID, YEAR(METTOL), COUNT(F.FOGLALAS_PK)\r\n",
                "FROM Szoba sz JOIN Foglalas f ON sz.SZOBA_ID=f.SZOBA_FK\r\n",
                "GROUP BY YEAR(METTOL), sz.SZOBA_ID\r\n",
                "HAVING COUNT(f.FOGLALAS_PK)%2=0"
            ],
            "metadata": {
                "azdata_cell_guid": "24f4dab3-afb3-4cbe-b94c-72c8aa4e1ca5",
                "language": "sql"
            },
            "outputs": [],
            "execution_count": null
        }
    ]
}