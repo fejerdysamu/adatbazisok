{
    "metadata": {
        "kernelspec": {
            "name": "SQL",
            "display_name": "SQL",
            "language": "sql"
        },
        "language_info": {
            "name": "sql",
            "version": ""
        }
    },
    "nbformat_minor": 2,
    "nbformat": 4,
    "cells": [
        {
            "cell_type": "markdown",
            "source": [
                "1\\. feladat"
            ],
            "metadata": {
                "azdata_cell_guid": "7a160e0f-182b-45eb-9e9d-4f5f8bc6ed4f"
            },
            "attachments": {}
        },
        {
            "cell_type": "code",
            "source": [
                "SELECT ROUND(AVG(CSILLAGOK_SZAMA) OVER(PARTITION BY CSILLAGOK_SZAMA ORDER BY TIPUS),0) as 'Tipus szerint átalg csillag',\r\n",
                "       ROUND(AVG(CSILLAGOK_SZAMA) OVER(PARTITION BY CSILLAGOK_SZAMA ORDER BY Hely),2) as 'Hely szerint átlag csillag'\r\n",
                "FROM Szallashely\r\n",
                "WHERE SZALLAS_NEV NOT LIKE '&-&'"
            ],
            "metadata": {
                "azdata_cell_guid": "8ce36888-449a-4060-959d-713c86232991",
                "language": "sql"
            },
            "outputs": [
                {
                    "output_type": "display_data",
                    "data": {
                        "text/html": "(21 rows affected)"
                    },
                    "metadata": {}
                },
                {
                    "output_type": "display_data",
                    "data": {
                        "text/html": "Total execution time: 00:00:00.010"
                    },
                    "metadata": {}
                },
                {
                    "output_type": "execute_result",
                    "metadata": {},
                    "execution_count": 9,
                    "data": {
                        "application/vnd.dataresource+json": {
                            "schema": {
                                "fields": [
                                    {
                                        "name": "Tipus szerint átalg csillag"
                                    },
                                    {
                                        "name": "Hely szerint átlag csillag"
                                    }
                                ]
                            },
                            "data": [
                                {
                                    "Tipus szerint átalg csillag": "0",
                                    "Hely szerint átlag csillag": "1"
                                },
                                {
                                    "Tipus szerint átalg csillag": "0",
                                    "Hely szerint átlag csillag": "1"
                                },
                                {
                                    "Tipus szerint átalg csillag": "0",
                                    "Hely szerint átlag csillag": "1"
                                },
                                {
                                    "Tipus szerint átalg csillag": "3",
                                    "Hely szerint átlag csillag": "1"
                                },
                                {
                                    "Tipus szerint átalg csillag": "3",
                                    "Hely szerint átlag csillag": "1"
                                },
                                {
                                    "Tipus szerint átalg csillag": "3",
                                    "Hely szerint átlag csillag": "1"
                                },
                                {
                                    "Tipus szerint átalg csillag": "4",
                                    "Hely szerint átlag csillag": "1"
                                },
                                {
                                    "Tipus szerint átalg csillag": "0",
                                    "Hely szerint átlag csillag": "0"
                                },
                                {
                                    "Tipus szerint átalg csillag": "3",
                                    "Hely szerint átlag csillag": "3"
                                },
                                {
                                    "Tipus szerint átalg csillag": "3",
                                    "Hely szerint átlag csillag": "2"
                                },
                                {
                                    "Tipus szerint átalg csillag": "3",
                                    "Hely szerint átlag csillag": "2"
                                },
                                {
                                    "Tipus szerint átalg csillag": "0",
                                    "Hely szerint átlag csillag": "2"
                                },
                                {
                                    "Tipus szerint átalg csillag": "4",
                                    "Hely szerint átlag csillag": "2"
                                },
                                {
                                    "Tipus szerint átalg csillag": "0",
                                    "Hely szerint átlag csillag": "1"
                                },
                                {
                                    "Tipus szerint átalg csillag": "3",
                                    "Hely szerint átlag csillag": "1"
                                },
                                {
                                    "Tipus szerint átalg csillag": "0",
                                    "Hely szerint átlag csillag": "0"
                                },
                                {
                                    "Tipus szerint átalg csillag": "0",
                                    "Hely szerint átlag csillag": "0"
                                },
                                {
                                    "Tipus szerint átalg csillag": "0",
                                    "Hely szerint átlag csillag": "0"
                                },
                                {
                                    "Tipus szerint átalg csillag": "0",
                                    "Hely szerint átlag csillag": "0"
                                },
                                {
                                    "Tipus szerint átalg csillag": "3",
                                    "Hely szerint átlag csillag": "3"
                                },
                                {
                                    "Tipus szerint átalg csillag": "4",
                                    "Hely szerint átlag csillag": "4"
                                }
                            ]
                        },
                        "text/html": [
                            "<table>",
                            "<tr><th>Tipus szerint átalg csillag</th><th>Hely szerint átlag csillag</th></tr>",
                            "<tr><td>0</td><td>1</td></tr>",
                            "<tr><td>0</td><td>1</td></tr>",
                            "<tr><td>0</td><td>1</td></tr>",
                            "<tr><td>3</td><td>1</td></tr>",
                            "<tr><td>3</td><td>1</td></tr>",
                            "<tr><td>3</td><td>1</td></tr>",
                            "<tr><td>4</td><td>1</td></tr>",
                            "<tr><td>0</td><td>0</td></tr>",
                            "<tr><td>3</td><td>3</td></tr>",
                            "<tr><td>3</td><td>2</td></tr>",
                            "<tr><td>3</td><td>2</td></tr>",
                            "<tr><td>0</td><td>2</td></tr>",
                            "<tr><td>4</td><td>2</td></tr>",
                            "<tr><td>0</td><td>1</td></tr>",
                            "<tr><td>3</td><td>1</td></tr>",
                            "<tr><td>0</td><td>0</td></tr>",
                            "<tr><td>0</td><td>0</td></tr>",
                            "<tr><td>0</td><td>0</td></tr>",
                            "<tr><td>0</td><td>0</td></tr>",
                            "<tr><td>3</td><td>3</td></tr>",
                            "<tr><td>4</td><td>4</td></tr>",
                            "</table>"
                        ]
                    }
                }
            ],
            "execution_count": 9
        },
        {
            "cell_type": "markdown",
            "source": [
                "2\\. feladat"
            ],
            "metadata": {
                "azdata_cell_guid": "7667f5bb-c5ba-4a49-bff7-b64a8dd03c0f"
            },
            "attachments": {}
        },
        {
            "cell_type": "code",
            "source": [
                "SELECT NEV\r\n",
                "FROM Foglalas f JOIN Vendeg v ON USERNEV=f.UGYFEL_FK\r\n",
                "WHERE (SELECT COUNT(FOGLALAS_PK) FROM Foglalas f2 JOIN Vendeg v2 ON USERNEV=f.UGYFEL_FK WHERE v2.USERNEV=v.USERNEV GROUP BY USERNEV, NEV ) in (0,1,2) \r\n",
                ""
            ],
            "metadata": {
                "azdata_cell_guid": "d20d1829-97b8-4a34-bbe3-ceb9b9f6f323",
                "language": "sql"
            },
            "outputs": [
                {
                    "output_type": "display_data",
                    "data": {
                        "text/html": "(0 rows affected)"
                    },
                    "metadata": {}
                },
                {
                    "output_type": "display_data",
                    "data": {
                        "text/html": "Total execution time: 00:00:00.064"
                    },
                    "metadata": {}
                },
                {
                    "output_type": "execute_result",
                    "metadata": {},
                    "execution_count": 12,
                    "data": {
                        "application/vnd.dataresource+json": {
                            "schema": {
                                "fields": [
                                    {
                                        "name": "NEV"
                                    }
                                ]
                            },
                            "data": []
                        },
                        "text/html": [
                            "<table>",
                            "<tr><th>NEV</th></tr>",
                            "</table>"
                        ]
                    }
                }
            ],
            "execution_count": 12
        },
        {
            "cell_type": "markdown",
            "source": [
                "3\\. feladat"
            ],
            "metadata": {
                "azdata_cell_guid": "667dad75-7197-4677-9f5c-6866f7909303"
            },
            "attachments": {}
        },
        {
            "cell_type": "code",
            "source": [
                ""
            ],
            "metadata": {
                "azdata_cell_guid": "e30a6e0a-ef8d-4763-97dd-90f1d20ef046",
                "language": "sql"
            },
            "outputs": [],
            "execution_count": null
        }
    ]
}